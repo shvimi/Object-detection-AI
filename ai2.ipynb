{
 "cells": [
  {
   "cell_type": "code",
   "execution_count": 3,
   "id": "0ec2ace7",
   "metadata": {},
   "outputs": [
    {
     "name": "stdout",
     "output_type": "stream",
     "text": [
      "Loading C:\\Users\\admin\\Desktop\\New folder\\std2-startup.xml...done (0.01 seconds)\n",
      "Loading C:\\Users\\admin\\Desktop\\New folder\\pra2_chat.aiml...done (0.00 seconds)\n"
     ]
    },
    {
     "data": {
      "text/plain": [
       "''"
      ]
     },
     "execution_count": 3,
     "metadata": {},
     "output_type": "execute_result"
    }
   ],
   "source": [
    "import aiml\n",
    "kernel=aiml.Kernel()\n",
    "kernel.learn(\"C:\\\\Users\\\\admin\\\\Desktop\\\\New folder\\\\std2-startup.xml\")\n",
    "kernel.respond(\"load prac 2\")\n"
   ]
  },
  {
   "cell_type": "code",
   "execution_count": null,
   "id": "d6e63c98",
   "metadata": {},
   "outputs": [
    {
     "name": "stdout",
     "output_type": "stream",
     "text": [
      ">Human:sunday\n",
      ">Bot: the day of ther week before monday and following saturday, observed by christians as a day of rest and religious worship and (together with saturday) forming part of the weekend\n",
      ">Human:monday\n",
      ">Bot: the day of the week before tuesday and following sunday\n",
      ">Human:friday\n",
      ">Bot: the day of the week before saturday and following thursday\n",
      ">Human:wenday\n"
     ]
    },
    {
     "name": "stderr",
     "output_type": "stream",
     "text": [
      "WARNING: No match found for input: wenday\n"
     ]
    },
    {
     "name": "stdout",
     "output_type": "stream",
     "text": [
      ">Bot: \n",
      ">Human:wednesday\n",
      ">Bot: the day of the week before thursday and following tuesday\n",
      ">Human:friday\n",
      ">Bot: the day of the week before saturday and following thursday\n",
      ">Human:tuesday\n",
      ">Bot: the day of the week before wednesday and following monday\n",
      ">Human:saturday\n",
      ">Bot: the day of the week before sunday and following friday\n",
      ">Human:sunday\n",
      ">Bot: the day of ther week before monday and following saturday, observed by christians as a day of rest and religious worship and (together with saturday) forming part of the weekend\n",
      ">Human:monday\n",
      ">Bot: the day of the week before tuesday and following sunday\n"
     ]
    }
   ],
   "source": [
    "while True:\n",
    "        input_text= input(\">Human:\")\n",
    "        response =kernel.respond(input_text)\n",
    "        print(\">Bot: \"+response)\n"
   ]
  },
  {
   "cell_type": "code",
   "execution_count": null,
   "id": "b9ee843b",
   "metadata": {},
   "outputs": [],
   "source": []
  }
 ],
 "metadata": {
  "kernelspec": {
   "display_name": "Python 3 (ipykernel)",
   "language": "python",
   "name": "python3"
  },
  "language_info": {
   "codemirror_mode": {
    "name": "ipython",
    "version": 3
   },
   "file_extension": ".py",
   "mimetype": "text/x-python",
   "name": "python",
   "nbconvert_exporter": "python",
   "pygments_lexer": "ipython3",
   "version": "3.11.4"
  }
 },
 "nbformat": 4,
 "nbformat_minor": 5
}
